{
 "cells": [
  {
   "cell_type": "markdown",
   "metadata": {
    "slideshow": {
     "slide_type": "slide"
    }
   },
   "source": [
    "<h1 style=\"color: #ef6c00;\"><center>Conociendo las baterías de Python! 🐍🔋</center></h1>\n",
    "<h3><center>Un recorrido por la librería estandar</center></h3>\n",
    "<h2><center>PyConAR 2019 🐍 🇦🇷 💕</center></h2>\n",
    "<h2><center>Martin Alderete</center></h2>"
   ]
  },
  {
   "cell_type": "markdown",
   "metadata": {
    "slideshow": {
     "slide_type": "slide"
    }
   },
   "source": [
    "<h1 style=\"color: #ef6c00;\"><center>Acerca de mi!</center></h1>\n",
    "\n",
    "![yo](data/profile_200x200.jpg)\n",
    "\n",
    "- Nacido y criado en la Patagonia 😍😍😍\n",
    "- Adoptado por la ciudad de las diagonales\n",
    "- Pythonista hace unos 14 años...\n",
    "- Miembro de la Asociación Civil de Python Argentina\n",
    "- _Tech Lead_ en Satellogic 💻 Generando y arreglando bugs en el espacio 👽👽👽\n",
    "- <a title=\"Twitter\" href=\"https://twitter.com/alderetemartin/\">Twitter</a> <a title=\"Github\" href=\"https://github.com/malderete/\">Github</a> <a title=\"Linkedin\" href=\"http://ar.linkedin.com/in/alderetemartin/\">Linkedin</a>"
   ]
  },
  {
   "cell_type": "code",
   "execution_count": null,
   "metadata": {
    "slideshow": {
     "slide_type": "skip"
    }
   },
   "outputs": [],
   "source": [
    "from data.data_for_presentation import *"
   ]
  },
  {
   "cell_type": "markdown",
   "metadata": {
    "slideshow": {
     "slide_type": "slide"
    }
   },
   "source": [
    "# Funciones incluidas\n",
    "\n",
    "- all() todo o nada\n",
    "- any() con algo me conformo\n",
    "- zip() agrupemos"
   ]
  },
  {
   "cell_type": "code",
   "execution_count": null,
   "metadata": {
    "slideshow": {
     "slide_type": "subslide"
    }
   },
   "outputs": [],
   "source": [
    "# Condiciones complejas\n",
    "if 1 < 10 and 10 < 100 and 3 == 3:\n",
    "    print('Si!')"
   ]
  },
  {
   "cell_type": "code",
   "execution_count": null,
   "metadata": {
    "slideshow": {
     "slide_type": "fragment"
    }
   },
   "outputs": [],
   "source": [
    "# Pythonizando las condiciones\n",
    "conditions = (1 < 10, 10 < 100, 3 == 3)\n",
    "\n",
    "if all(conditions):\n",
    "    print('Si!')"
   ]
  },
  {
   "cell_type": "code",
   "execution_count": null,
   "metadata": {
    "slideshow": {
     "slide_type": "subslide"
    }
   },
   "outputs": [],
   "source": [
    "# Condiciones complejas\n",
    "if 1 > 10 or 10 > 100 or 45 > 1:\n",
    "    print('Si!')"
   ]
  },
  {
   "cell_type": "code",
   "execution_count": null,
   "metadata": {
    "slideshow": {
     "slide_type": "fragment"
    }
   },
   "outputs": [],
   "source": [
    "# Pythonizando las condiciones\n",
    "conditions = (1 > 10, 10 > 100, 45 > 1)\n",
    "\n",
    "if any(conditions):\n",
    "    print('Si!')"
   ]
  },
  {
   "cell_type": "code",
   "execution_count": null,
   "metadata": {
    "slideshow": {
     "slide_type": "subslide"
    }
   },
   "outputs": [],
   "source": [
    "# Agrupando\n",
    "print(languages)\n",
    "print(ids)\n",
    "print()\n",
    "for id_, lang in zip(ids, languages):\n",
    "    print(id_, lang)\n",
    "\n",
    "# Donde quedaron 'C' y 'Smalltalk'?"
   ]
  },
  {
   "cell_type": "markdown",
   "metadata": {
    "slideshow": {
     "slide_type": "slide"
    }
   },
   "source": [
    "# Modulos de la libreria estandard\n",
    "\n",
    "Empecemos el recorrido"
   ]
  },
  {
   "cell_type": "markdown",
   "metadata": {
    "slideshow": {
     "slide_type": "subslide"
    }
   },
   "source": [
    "### pprint\n",
    "\n",
    "Imprimir lindo es útil e importante"
   ]
  },
  {
   "cell_type": "code",
   "execution_count": null,
   "metadata": {
    "scrolled": true,
    "slideshow": {
     "slide_type": "fragment"
    }
   },
   "outputs": [],
   "source": [
    "import pprint\n",
    "\n",
    "\n",
    "#print(twitter_data)\n",
    "pprint.pprint(twitter_data)"
   ]
  },
  {
   "cell_type": "markdown",
   "metadata": {
    "slideshow": {
     "slide_type": "slide"
    }
   },
   "source": [
    "### doctest\n",
    "\n",
    "Validar que tan buenos son nuestros docstrings ;)"
   ]
  },
  {
   "cell_type": "code",
   "execution_count": null,
   "metadata": {
    "slideshow": {
     "slide_type": "fragment"
    }
   },
   "outputs": [],
   "source": [
    "def multiply(a, b):\n",
    "    \"\"\"\n",
    "    Multiplies a and b.\n",
    "\n",
    "    >>> a, b = 2, 5\n",
    "    >>> multiply(a, b)\n",
    "    10\n",
    "\n",
    "    >>> multiply('A', 'B')\n",
    "    Traceback (most recent call last):\n",
    "      File \"<stdin>\", line 1, in <module>\n",
    "      File \"<stdin>\", line 2, in multiply\n",
    "    TypeError: can't multiply sequence by non-int of type 'str'\n",
    "\n",
    "    # Using traceback\n",
    "    >>> multiply(1, 2, 3)\n",
    "    Traceback (most recent call last):\n",
    "    TypeError: multiply() takes 2 positional arguments but 3 were given\n",
    "    \"\"\"\n",
    "\n",
    "    return a * b"
   ]
  },
  {
   "cell_type": "code",
   "execution_count": null,
   "metadata": {
    "slideshow": {
     "slide_type": "fragment"
    }
   },
   "outputs": [],
   "source": [
    "! python -m doctest doctest_example.py -v"
   ]
  },
  {
   "cell_type": "markdown",
   "metadata": {
    "slideshow": {
     "slide_type": "slide"
    }
   },
   "source": [
    "### collections\n",
    "\n",
    "- defaultdict\n",
    "- Counter\n",
    "- namedtuple\n",
    "- ChainMap"
   ]
  },
  {
   "cell_type": "markdown",
   "metadata": {
    "slideshow": {
     "slide_type": "subslide"
    }
   },
   "source": [
    "### defaultdict\n",
    "\n",
    "diccionarios con poderes!"
   ]
  },
  {
   "cell_type": "code",
   "execution_count": null,
   "metadata": {
    "slideshow": {
     "slide_type": "fragment"
    }
   },
   "outputs": [],
   "source": [
    "result = {}\n",
    "for name, status in sensors_data:\n",
    "    result.setdefault(status, [])\n",
    "    result[status].append(name)\n",
    "\n",
    "pprint.pprint(result)"
   ]
  },
  {
   "cell_type": "code",
   "execution_count": null,
   "metadata": {
    "slideshow": {
     "slide_type": "fragment"
    }
   },
   "outputs": [],
   "source": [
    "import collections\n",
    "\n",
    "\n",
    "result = collections.defaultdict(list)\n",
    "\n",
    "for name, status in sensors_data:\n",
    "    result[status].append(name)\n",
    "\n",
    "pprint.pprint(result)"
   ]
  },
  {
   "cell_type": "markdown",
   "metadata": {
    "slideshow": {
     "slide_type": "subslide"
    }
   },
   "source": [
    "### Counter\n",
    "\n",
    "Contador pythonica incluido"
   ]
  },
  {
   "cell_type": "code",
   "execution_count": null,
   "metadata": {
    "slideshow": {
     "slide_type": "subslide"
    }
   },
   "outputs": [],
   "source": [
    "counter = {\n",
    "    'Bad': 0,\n",
    "    'Good': 0,\n",
    "    'Unknown': 0\n",
    "}\n",
    "\n",
    "for _, status in sensors_data:\n",
    "    counter[status] += 1\n",
    "\n",
    "print(counter)"
   ]
  },
  {
   "cell_type": "code",
   "execution_count": null,
   "metadata": {
    "slideshow": {
     "slide_type": "fragment"
    }
   },
   "outputs": [],
   "source": [
    "import collections\n",
    "\n",
    "\n",
    "counter = collections.Counter()\n",
    "\n",
    "for _, status in sensors_data:\n",
    "    counter[status] += 1\n",
    "\n",
    "print(counter)"
   ]
  },
  {
   "cell_type": "markdown",
   "metadata": {
    "slideshow": {
     "slide_type": "subslide"
    }
   },
   "source": [
    "### Como pedimos el TOP 2 de resultados?"
   ]
  },
  {
   "cell_type": "code",
   "execution_count": null,
   "metadata": {
    "slideshow": {
     "slide_type": "fragment"
    }
   },
   "outputs": [],
   "source": [
    "print(counter.most_common(2))"
   ]
  },
  {
   "cell_type": "code",
   "execution_count": null,
   "metadata": {
    "slideshow": {
     "slide_type": "fragment"
    }
   },
   "outputs": [],
   "source": [
    "# Podemos operar Counters\n",
    "print(counter + counter)"
   ]
  },
  {
   "cell_type": "markdown",
   "metadata": {
    "slideshow": {
     "slide_type": "subslide"
    }
   },
   "source": [
    "### namedtuple\n",
    "\n",
    "Tuplas que se quieren promoveer a objetos \"complejos\""
   ]
  },
  {
   "cell_type": "code",
   "execution_count": null,
   "metadata": {
    "slideshow": {
     "slide_type": "subslide"
    }
   },
   "outputs": [],
   "source": [
    "import csv\n",
    "import pprint\n",
    "\n",
    "\n",
    "class Row:\n",
    "    def __init__(self, number, title, author, price):\n",
    "        self.number = number\n",
    "        self.title = title\n",
    "        self.author = author\n",
    "        self.price = price\n",
    "\n",
    "        \n",
    "rows = []\n",
    "with open(FILE_PATH) as csv_file:\n",
    "    reader = csv.DictReader(csv_file, CSV_HEADER)\n",
    "    for data in reader:\n",
    "        rows.append(Row(data['id'], data['title'], data['author'], data['price']))\n",
    "\n",
    "pprint.pprint(rows)"
   ]
  },
  {
   "cell_type": "code",
   "execution_count": null,
   "metadata": {
    "slideshow": {
     "slide_type": "subslide"
    }
   },
   "outputs": [],
   "source": [
    "import csv\n",
    "import collections\n",
    "import pprint\n",
    "\n",
    "\n",
    "Row = collections.namedtuple('Row', CSV_HEADER)\n",
    "\n",
    "\n",
    "rows = []\n",
    "with open(FILE_PATH) as csv_file:\n",
    "    reader = csv.DictReader(csv_file, CSV_HEADER)\n",
    "    for data in reader:\n",
    "        rows.append(Row(data['id'], data['title'], data['author'], data['price']))\n",
    "\n",
    "pprint.pprint(rows)\n",
    "print(rows[0].title)"
   ]
  },
  {
   "cell_type": "markdown",
   "metadata": {
    "slideshow": {
     "slide_type": "subslide"
    }
   },
   "source": [
    "### ChainMap\n",
    "\n",
    "\"Cadena de diccionario\", búsquedas en modo cascada"
   ]
  },
  {
   "cell_type": "code",
   "execution_count": null,
   "metadata": {
    "slideshow": {
     "slide_type": "fragment"
    }
   },
   "outputs": [],
   "source": [
    "import collections\n",
    "\n",
    "\n",
    "cli_args = {'debug': True, 'output': 'somefile.out'}\n",
    "defaults = {'fruta': False}\n",
    "\n",
    "config = {k: v for k, v in cli_args.items()}\n",
    "config.update(defaults)\n",
    "\n",
    "print(config)"
   ]
  },
  {
   "cell_type": "code",
   "execution_count": null,
   "metadata": {
    "slideshow": {
     "slide_type": "fragment"
    }
   },
   "outputs": [],
   "source": [
    "import collections\n",
    "\n",
    "\n",
    "cli_args = {'debug': True, 'output': 'somefile.out'}\n",
    "defaults = {'fruta': False}\n",
    "config =  collections.ChainMap(cli_args, defaults)\n",
    "\n",
    "print(config)\n",
    "print(config['fruta'])"
   ]
  },
  {
   "cell_type": "markdown",
   "metadata": {
    "slideshow": {
     "slide_type": "slide"
    }
   },
   "source": [
    "### functools\n",
    "\n",
    "- lru_cache"
   ]
  },
  {
   "cell_type": "markdown",
   "metadata": {
    "slideshow": {
     "slide_type": "slide"
    }
   },
   "source": [
    "### @lru_cache\n",
    "\n",
    "Cache con política **Least Recently Used** (LRU). Util para implementar **memoization**\n",
    "\n",
    "La \"clave\" del cache se genera con los parametros **OJO!**"
   ]
  },
  {
   "cell_type": "code",
   "execution_count": null,
   "metadata": {
    "slideshow": {
     "slide_type": "fragment"
    }
   },
   "outputs": [],
   "source": [
    "import time\n",
    "import functools\n",
    "\n",
    "\n",
    "def expensive_computation(a, b):\n",
    "    time.sleep(2)\n",
    "    return a + b"
   ]
  },
  {
   "cell_type": "code",
   "execution_count": null,
   "metadata": {
    "slideshow": {
     "slide_type": "fragment"
    }
   },
   "outputs": [],
   "source": [
    "%time expensive_computation(2, 10)\n",
    "%time expensive_computation(2, 10)\n",
    "%time expensive_computation(2, 10)\n",
    "%time expensive_computation(5, 10)\n",
    "%time expensive_computation(5, 10)\n",
    "%time expensive_computation(6, 10)\n",
    "%time expensive_computation(6, 10)"
   ]
  },
  {
   "cell_type": "code",
   "execution_count": null,
   "metadata": {
    "slideshow": {
     "slide_type": "subslide"
    }
   },
   "outputs": [],
   "source": [
    "import time\n",
    "import functools\n",
    "\n",
    "\n",
    "@functools.lru_cache(maxsize=2)\n",
    "def expensive_computation_with_cache(a, b):\n",
    "    time.sleep(2)\n",
    "    return a + b"
   ]
  },
  {
   "cell_type": "code",
   "execution_count": null,
   "metadata": {
    "slideshow": {
     "slide_type": "fragment"
    }
   },
   "outputs": [],
   "source": [
    "%time expensive_computation_with_cache(2, 10)\n",
    "%time expensive_computation_with_cache(2, 10)\n",
    "%time expensive_computation_with_cache(2, 10)\n",
    "print(expensive_computation_with_cache.cache_info())\n",
    "print()\n",
    "%time expensive_computation_with_cache(5, 10)\n",
    "%time expensive_computation_with_cache(5, 10)\n",
    "print(expensive_computation_with_cache.cache_info())\n",
    "print()\n",
    "%time expensive_computation_with_cache(6, 10)\n",
    "%time expensive_computation_with_cache(6, 10)\n",
    "print(expensive_computation_with_cache.cache_info())\n",
    "print()"
   ]
  },
  {
   "cell_type": "markdown",
   "metadata": {
    "slideshow": {
     "slide_type": "slide"
    }
   },
   "source": [
    "### itertools\n",
    "\n",
    "- count()\n",
    "- zip_longest()\n",
    "- chain()"
   ]
  },
  {
   "cell_type": "markdown",
   "metadata": {
    "slideshow": {
     "slide_type": "subslide"
    }
   },
   "source": [
    "### count\n",
    "\n",
    "Contador al infinito ..."
   ]
  },
  {
   "cell_type": "code",
   "execution_count": null,
   "metadata": {
    "slideshow": {
     "slide_type": "fragment"
    }
   },
   "outputs": [],
   "source": [
    "import itertools\n",
    "\n",
    "counter_by_2 = itertools.count(start=0, step=2)\n",
    "\n",
    "\n",
    "for value in counter_by_2:\n",
    "    print(value)\n",
    "    if value > 20:\n",
    "        break"
   ]
  },
  {
   "cell_type": "markdown",
   "metadata": {
    "slideshow": {
     "slide_type": "subslide"
    }
   },
   "source": [
    "### zip_longest()\n",
    "\n",
    "Agrupando iteradores como debe ser, el hermano mayor de **zip()**"
   ]
  },
  {
   "cell_type": "code",
   "execution_count": null,
   "metadata": {
    "slideshow": {
     "slide_type": "fragment"
    }
   },
   "outputs": [],
   "source": [
    "import itertools\n",
    "\n",
    "\n",
    "for id_, lang in itertools.zip_longest(ids, languages):\n",
    "    print(id_, lang)"
   ]
  },
  {
   "cell_type": "markdown",
   "metadata": {
    "slideshow": {
     "slide_type": "subslide"
    }
   },
   "source": [
    "### chain()\n",
    "\n",
    "Encadenar o aplanar iteradores sin sufrir"
   ]
  },
  {
   "cell_type": "code",
   "execution_count": null,
   "metadata": {
    "slideshow": {
     "slide_type": "subslide"
    }
   },
   "outputs": [],
   "source": [
    "import itertools\n",
    "import os\n",
    "\n",
    "\n",
    "paths = (\n",
    "    os.listdir('/etc'),\n",
    "    os.listdir('/tmp')\n",
    ")\n",
    "for p in paths:\n",
    "    for f in p:\n",
    "        print(f)"
   ]
  },
  {
   "cell_type": "code",
   "execution_count": null,
   "metadata": {
    "slideshow": {
     "slide_type": "subslide"
    }
   },
   "outputs": [],
   "source": [
    "import itertools\n",
    "import os\n",
    "\n",
    "\n",
    "paths = (\n",
    "    os.listdir('/etc'),\n",
    "    os.listdir('/tmp')\n",
    ")\n",
    "for f in itertools.chain(paths):\n",
    "    print(f)"
   ]
  },
  {
   "cell_type": "markdown",
   "metadata": {
    "slideshow": {
     "slide_type": "slide"
    }
   },
   "source": [
    "### concurrent.futures\n",
    "\n",
    "- ThreadPoolExecutor\n",
    "- ProcessPoolExecutor\n",
    "\n",
    "Ejecutores de _tareas_ de alto nivel"
   ]
  },
  {
   "cell_type": "code",
   "execution_count": null,
   "metadata": {
    "slideshow": {
     "slide_type": "subslide"
    }
   },
   "outputs": [],
   "source": [
    "%%time\n",
    "import concurrent.futures\n",
    "import time\n",
    "import requests\n",
    "\n",
    "\n",
    "NUM_WORKERS = 1\n",
    "\n",
    "\n",
    "def is_alive(url, sleep_s=0):\n",
    "    \"\"\"Perform a HEAD HTTP request to check if the site is UP.\"\"\"\n",
    "    time.sleep(sleep_s)\n",
    "    try:\n",
    "        requests.head(url)\n",
    "    except Exception as e:\n",
    "        return False\n",
    "    else:\n",
    "        return url, True\n",
    "\n",
    "\n",
    "urls = (\n",
    "    ('https://docs.python.org/3/library/concurrent.futures.html', 2),\n",
    "    ('https://docs.python.org/3/library/dataclasses.html', 1),\n",
    "    ('https://docs.python.org/3/library/sched.html', 4),\n",
    "    ('https://docs.python.org/3/library/contextlib.html', 1),\n",
    ")\n",
    "\n",
    "with concurrent.futures.ThreadPoolExecutor(max_workers=NUM_WORKERS) as executor:\n",
    "    futures = [executor.submit(is_alive, url, sleep_secs) for url, sleep_secs in urls]\n",
    "    \n",
    "    for f in concurrent.futures.as_completed(futures):\n",
    "        print(f.result())"
   ]
  },
  {
   "cell_type": "markdown",
   "metadata": {
    "slideshow": {
     "slide_type": "slide"
    }
   },
   "source": [
    "### Pathlib\n",
    "\n",
    "Trabajar con paths sin dolores\n",
    "\n",
    "- “puras” solo manipulan strins pero no interactuan con el FS\n",
    "- “concretas” extienden la API y incluyen operaciones que afectan el FS"
   ]
  },
  {
   "cell_type": "code",
   "execution_count": null,
   "metadata": {
    "slideshow": {
     "slide_type": "subslide"
    }
   },
   "outputs": [],
   "source": [
    "import pathlib\n",
    "\n",
    "\n",
    "p = pathlib.Path('.')\n",
    "\n",
    "# Iterar\n",
    "for f in p.iterdir():\n",
    "    print(f)\n",
    "\n",
    "print()\n",
    "# Filtrar\n",
    "for f in p.glob('*.py'):\n",
    "    print(f)\n",
    "\n",
    "print()\n",
    "# 'Navegar, el operador \"/\" es como \"os.path.join()\"'\n",
    "q = p / 'malderete_test.txt'\n",
    "print('Path: ', q)\n",
    "print('Existe?: ', q.exists())\n",
    "print('Path absoluto: ' , q.absolute())\n",
    "print('Es archivo?: ', q.is_file())\n",
    "print('Es dir?: ', q.is_dir())\n",
    "print('Partes: ', q.absolute().parts)\n",
    "print('Sufijo: ', q.absolute().suffix)\n",
    "print('Stem: ', q.absolute().stem)"
   ]
  },
  {
   "cell_type": "markdown",
   "metadata": {
    "slideshow": {
     "slide_type": "slide"
    }
   },
   "source": [
    "### requests\n",
    "\n",
    "HTTP para humanos"
   ]
  },
  {
   "cell_type": "code",
   "execution_count": null,
   "metadata": {},
   "outputs": [],
   "source": [
    "import requests\n",
    "\n",
    "\n",
    "URL_1 = 'http://www.python.org.ar/'\n",
    "URL_2 = 'https://jsonplaceholder.typicode.com/todos/1'\n",
    "URL_3 = 'http://www.python.org.ar/fruta/'\n",
    "\n",
    "\n",
    "url = URL_1\n",
    "\n",
    "try:\n",
    "    r = requests.get(url)  # get() post() head() delete() put() patch()\n",
    "except Exception as err:\n",
    "    print('Error al pedir la URL={}: {}'.format(url, err))\n",
    "else: \n",
    "    try:\n",
    "        r.raise_for_status()\n",
    "    except Exception:\n",
    "        print('Invalid response status={}'.format(r.status_code))\n",
    "    else:\n",
    "        print(r.status_code == requests.codes.ok)\n",
    "        print(r.text)"
   ]
  },
  {
   "cell_type": "markdown",
   "metadata": {
    "slideshow": {
     "slide_type": "slide"
    }
   },
   "source": [
    "### Herramientas utiles incluidas\n",
    "\n",
    "- json.tool\n",
    "- http.server"
   ]
  },
  {
   "cell_type": "markdown",
   "metadata": {
    "slideshow": {
     "slide_type": "subslide"
    }
   },
   "source": [
    "### json.tool 💖\n",
    "\n",
    "Formateador de JSON incluido"
   ]
  },
  {
   "cell_type": "code",
   "execution_count": null,
   "metadata": {
    "slideshow": {
     "slide_type": "subslide"
    }
   },
   "outputs": [],
   "source": [
    "! cat data/example.json"
   ]
  },
  {
   "cell_type": "code",
   "execution_count": null,
   "metadata": {
    "slideshow": {
     "slide_type": "fragment"
    }
   },
   "outputs": [],
   "source": [
    "! cat data/example.json | python -m json.tool"
   ]
  },
  {
   "cell_type": "markdown",
   "metadata": {
    "slideshow": {
     "slide_type": "subslide"
    }
   },
   "source": [
    "### http.serve 💖\n",
    "\n",
    "Forma simple y fácil de compartir en la red"
   ]
  },
  {
   "cell_type": "code",
   "execution_count": null,
   "metadata": {
    "slideshow": {
     "slide_type": "fragment"
    }
   },
   "outputs": [],
   "source": [
    "! python -m http.server -d /home/malderete/talks/pyconar2019"
   ]
  },
  {
   "cell_type": "markdown",
   "metadata": {
    "slideshow": {
     "slide_type": "slide"
    }
   },
   "source": [
    "### HTTPie\n",
    "\n",
    "el \"curl\" pythonico"
   ]
  },
  {
   "cell_type": "code",
   "execution_count": null,
   "metadata": {
    "slideshow": {
     "slide_type": "fragment"
    }
   },
   "outputs": [],
   "source": [
    "! curl https://jsonplaceholder.typicode.com/todos/1/"
   ]
  },
  {
   "cell_type": "code",
   "execution_count": null,
   "metadata": {
    "slideshow": {
     "slide_type": "fragment"
    }
   },
   "outputs": [],
   "source": [
    "! http https://jsonplaceholder.typicode.com/todos/1/"
   ]
  },
  {
   "cell_type": "markdown",
   "metadata": {
    "slideshow": {
     "slide_type": "slide"
    }
   },
   "source": [
    "<h1 style=\"color: #ef6c00\"><center>Librerias que cualquier Pythonista desea conocer</center></h1>\n",
    "\n",
    "- [jupyter notebooks](https://jupyter.org/)\n",
    "- [httpie](https://httpie.org/)\n",
    "- [requests](https://requests.readthedocs.io/en/master/)\n",
    "- [pytest](https://docs.pytest.org/en/latest/)\n",
    "- [fades](https://fades.readthedocs.io/en/stable/)\n",
    "- [attrs](https://www.attrs.org/en/stable/)\n",
    "- [scrapy](https://scrapy.org/)\n",
    "- [beautifulsoup4](https://www.crummy.com/software/BeautifulSoup/)\n",
    "- [python-dateutil](https://dateutil.readthedocs.io/en/stable/)"
   ]
  },
  {
   "cell_type": "markdown",
   "metadata": {
    "slideshow": {
     "slide_type": "subslide"
    }
   },
   "source": [
    "- [django](https://www.djangoproject.com)\n",
    "- [django-rest-framework](https://www.django-rest-framework.org/)\n",
    "- [flask](https://www.palletsprojects.com/p/flask/)\n",
    "- [numpy](https://numpy.org/)\n",
    "- [pandas](https://pandas.pydata.org/)\n",
    "- [more-itertools](https://github.com/erikrose/more-itertools)\n",
    "- [click](https://click.palletsprojects.com/en/7.x/)\n",
    "- [flake8](http://flake8.pycqa.org/en/latest/)\n",
    "- [black](https://black.readthedocs.io/en/stable/)"
   ]
  },
  {
   "cell_type": "markdown",
   "metadata": {
    "slideshow": {
     "slide_type": "slide"
    }
   },
   "source": [
    "<h1 style=\"color: #ef6c00;\"><center>Conociendo las baterías de Python! 🐍🔋</center></h1>\n",
    "<h3><center>Un recorrido por la librería estandar</center></h3>\n",
    "<h2><center>PyConAR 2019 🐍 🇦🇷 💕</center></h2>\n",
    "<h2><center>Muchas gracias!</center></h2>\n",
    "<h1><center>Preguntas?</center></h1>"
   ]
  },
  {
   "cell_type": "code",
   "execution_count": null,
   "metadata": {
    "slideshow": {
     "slide_type": "fragment"
    }
   },
   "outputs": [],
   "source": [
    "while not manos.dormidas:\n",
    "    aplaudir()\n",
    "    print(‘Gracias PyconAR’)"
   ]
  },
  {
   "cell_type": "markdown",
   "metadata": {
    "slideshow": {
     "slide_type": "slide"
    }
   },
   "source": [
    "\n",
    "<h1 style=\"color: #ef6c00\"><center>Links útiles</center></h1>\n",
    "\n",
    "- [Python Standard Library Documentation](https://docs.python.org/3/library/)\n",
    "- [Python 3 Module of the Week](https://pymotw.com/3/)\n",
    "- [Python Lib Source Code](https://github.com/python/cpython/tree/master/Lib)"
   ]
  }
 ],
 "metadata": {
  "celltoolbar": "Slideshow",
  "kernelspec": {
   "display_name": "Python 3",
   "language": "python",
   "name": "python3"
  },
  "language_info": {
   "codemirror_mode": {
    "name": "ipython",
    "version": 3
   },
   "file_extension": ".py",
   "mimetype": "text/x-python",
   "name": "python",
   "nbconvert_exporter": "python",
   "pygments_lexer": "ipython3",
   "version": "3.8.0"
  },
  "rise": {
   "autolaunch": true,
   "scroll": true,
   "start_slideshow_at": "beginning"
  }
 },
 "nbformat": 4,
 "nbformat_minor": 2
}
